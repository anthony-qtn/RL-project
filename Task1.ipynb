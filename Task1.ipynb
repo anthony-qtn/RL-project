{
 "cells": [
  {
   "cell_type": "markdown",
   "id": "461e3327",
   "metadata": {},
   "source": [
    "# Setup"
   ]
  },
  {
   "cell_type": "markdown",
   "id": "97b17446",
   "metadata": {},
   "source": [
    "Groupe :\n",
    "- Pierre JOURDIN\n",
    "- Aymeric CONTI\n",
    "- Anthony QUENTIN"
   ]
  },
  {
   "cell_type": "code",
   "execution_count": 8,
   "id": "312046cb",
   "metadata": {},
   "outputs": [],
   "source": [
    "import pickle\n",
    "import gymnasium as gym\n",
    "import highway_env  # noqa: F401\n",
    "import matplotlib.pyplot as plt\n",
    "import numpy as np\n",
    "import random"
   ]
  },
  {
   "cell_type": "code",
   "execution_count": 9,
   "id": "1f0a2715",
   "metadata": {},
   "outputs": [],
   "source": [
    "LOGGING = False\n",
    "\n",
    "if LOGGING:\n",
    "    import mlflow"
   ]
  },
  {
   "cell_type": "code",
   "execution_count": 10,
   "id": "d1bc3230",
   "metadata": {},
   "outputs": [],
   "source": [
    "hyperparameters = {\n",
    "    \"epsilon\": 0.05,\n",
    "\n",
    "}\n",
    "\n",
    "if LOGGING:\n",
    "    mlflow.start_run()\n",
    "    mlflow.log_params(hyperparameters)"
   ]
  },
  {
   "cell_type": "code",
   "execution_count": 11,
   "id": "da8db872",
   "metadata": {},
   "outputs": [
    {
     "name": "stdout",
     "output_type": "stream",
     "text": [
      "Action Space: Discrete(5)\n",
      "Observation Space: Box(-inf, inf, (7, 8, 8), float32)\n"
     ]
    }
   ],
   "source": [
    "config_dict = {\n",
    "    \"observation\": {\n",
    "        \"type\": \"OccupancyGrid\",\n",
    "        \"vehicles_count\": 10,\n",
    "        \"features\": [\"presence\", \"x\", \"y\", \"vx\", \"vy\", \"cos_h\", \"sin_h\"],\n",
    "        \"features_range\": {\n",
    "            \"x\": [-100, 100],\n",
    "            \"y\": [-100, 100],\n",
    "            \"vx\": [-20, 20],\n",
    "            \"vy\": [-20, 20],\n",
    "        },\n",
    "        \"grid_size\": [[-20, 20], [-20, 20]],\n",
    "        \"grid_step\": [5, 5],\n",
    "        \"absolute\": False,\n",
    "    },\n",
    "    \"action\": {\n",
    "        \"type\": \"DiscreteMetaAction\",\n",
    "    },\n",
    "    \"lanes_count\": 4,\n",
    "    \"vehicles_count\": 15,\n",
    "    \"duration\": 60,  # [s]\n",
    "    \"initial_spacing\": 0,\n",
    "    \"collision_reward\": -1,  # The reward received when colliding with a vehicle.\n",
    "    \"right_lane_reward\": 0.5,  # The reward received when driving on the right-most lanes, linearly mapped to\n",
    "    # zero for other lanes.\n",
    "    \"high_speed_reward\": 0.1,  # The reward received when driving at full speed, linearly mapped to zero for\n",
    "    # lower speeds according to config[\"reward_speed_range\"].\n",
    "    \"lane_change_reward\": 0,\n",
    "    \"reward_speed_range\": [\n",
    "        20,\n",
    "        30,\n",
    "    ],  # [m/s] The reward for high speed is mapped linearly from this range to [0, HighwayEnv.HIGH_SPEED_REWARD].\n",
    "    \"simulation_frequency\": 5,  # [Hz]\n",
    "    \"policy_frequency\": 1,  # [Hz]\n",
    "    \"other_vehicles_type\": \"highway_env.vehicle.behavior.IDMVehicle\",\n",
    "    \"screen_width\": 600,  # [px]\n",
    "    \"screen_height\": 150,  # [px]\n",
    "    \"centering_position\": [0.3, 0.5],\n",
    "    \"scaling\": 5.5,\n",
    "    \"show_trajectories\": True,\n",
    "    \"render_agent\": True,\n",
    "    \"offscreen_rendering\": False,\n",
    "    \"disable_collision_checks\": True,\n",
    "}\n",
    "\n",
    "env = gym.make(\"highway-fast-v0\", render_mode=\"rgb_array\")\n",
    "env.unwrapped.configure(config_dict)\n",
    "obs, _ = env.reset()\n",
    "\n",
    "actions = env.action_space\n",
    "states = env.observation_space\n",
    "\n",
    "print(\"Action Space:\", actions)\n",
    "print(\"Observation Space:\", states)"
   ]
  },
  {
   "cell_type": "markdown",
   "id": "62559117",
   "metadata": {},
   "source": [
    "# DQN"
   ]
  },
  {
   "cell_type": "code",
   "execution_count": 12,
   "id": "6471d770",
   "metadata": {},
   "outputs": [],
   "source": [
    "class ReplayBuffer:\n",
    "    def __init__(self, capacity=100):\n",
    "        self.capacity = capacity\n",
    "        self.position = 0\n",
    "        self.memory = []\n",
    "\n",
    "    def add(self, s, a, r, sprime, aprime):\n",
    "        if len(self.memory) < self.capacity:\n",
    "            self.memory.append(None)\n",
    "        self.memory[self.position] = (s, a, r, sprime, aprime)\n",
    "        self.position = (self.position + 1) % self.capacity\n",
    "\n",
    "    def sample(self, batch_size):\n",
    "        return random.choices(self.memory, k=batch_size)\n",
    "    \n",
    "    def __len__(self):\n",
    "        return len(self.memory)"
   ]
  },
  {
   "cell_type": "markdown",
   "id": "3d713f2d",
   "metadata": {},
   "source": [
    "# Viz"
   ]
  },
  {
   "cell_type": "code",
   "execution_count": 13,
   "id": "182c3c23",
   "metadata": {},
   "outputs": [],
   "source": [
    "if LOGGING:\n",
    "    mlflow.end_run()"
   ]
  },
  {
   "cell_type": "code",
   "execution_count": null,
   "id": "b47f7efd",
   "metadata": {},
   "outputs": [],
   "source": [
    "obs, _ = env.reset()\n",
    "\n",
    "for _ in range(100):\n",
    "    action = 1\n",
    "    obs, reward, done, truncated, info = env.step(action)  # Pass an integer, not an array\n",
    "    env.render()"
   ]
  }
 ],
 "metadata": {
  "kernelspec": {
   "display_name": "envRL",
   "language": "python",
   "name": "python3"
  },
  "language_info": {
   "codemirror_mode": {
    "name": "ipython",
    "version": 3
   },
   "file_extension": ".py",
   "mimetype": "text/x-python",
   "name": "python",
   "nbconvert_exporter": "python",
   "pygments_lexer": "ipython3",
   "version": "3.13.2"
  }
 },
 "nbformat": 4,
 "nbformat_minor": 5
}
